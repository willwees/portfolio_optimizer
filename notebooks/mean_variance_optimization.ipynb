{
 "cells": [
  {
   "cell_type": "code",
   "execution_count": 1,
   "metadata": {},
   "outputs": [
    {
     "name": "stderr",
     "output_type": "stream",
     "text": [
      "[*********************100%***********************]  1 of 1 completed\n",
      "[*********************100%***********************]  1 of 1 completed\n",
      "[*********************100%***********************]  1 of 1 completed\n"
     ]
    },
    {
     "name": "stdout",
     "output_type": "stream",
     "text": [
      "Optimal Weights:\n",
      "VOO: 61.7842%\n",
      "BND: 0.0000%\n",
      "GLD: 38.2158%\n",
      "Expected Annual Return: 0.1051\n",
      "Expected Volatility: 0.1252\n",
      "Sharpe Ratio: 0.5301\n"
     ]
    },
    {
     "data": {
      "image/png": "[encoded data removed]",
      "text/plain": [
       "<Figure size 1000x600 with 1 Axes>"
      ]
     },
     "metadata": {},
     "output_type": "display_data"
    }
   ],
   "source": [
    "import yfinance as yf\n",
    "import pandas as pd\n",
    "from datetime import datetime, timedelta\n",
    "import numpy as np\n",
    "from scipy.optimize import minimize\n",
    "\n",
    "# List of tickers\n",
    "# TODO: dynamic tickers\n",
    "tickers = ['VOO', 'BND', 'GLD', 'BTC-USD']\n",
    "\n",
    "end_date = datetime.today()\n",
    "# TODO: dynamic year\n",
    "start_date = end_date - timedelta(days=365*10)\n",
    "\n",
    "# Create an empty DataFrame to store the adjusted closing prices\n",
    "adj_close_df = pd.DataFrame()\n",
    "\n",
    "# Download the closing prices\n",
    "for ticker in tickers:\n",
    "    data = yf.download(ticker, start=start_date, end=end_date)\n",
    "    adj_close_df[ticker] = data['Adj Close']\n",
    "\n",
    "# Calculate the lognormal returns\n",
    "log_returns = np.log(adj_close_df / adj_close_df.shift(1))\n",
    "\n",
    "# Drop any missing values\n",
    "log_returns = log_returns.dropna()\n",
    "\n",
    "# Calculate covariance matrix\n",
    "cov_matrix = log_returns.cov()*252\n",
    "\n",
    "# Define the portfolio standard deviation\n",
    "def standard_deviation(weights, cov_matrix):\n",
    "    variance = weights.T @ cov_matrix @ weights\n",
    "    return np.sqrt(variance)\n",
    "\n",
    "# Define the expected return\n",
    "# Key Assumption: Expected returns are based on historical returns\n",
    "# TODO: Implement a more sophisticated model for expected returns\n",
    "def expected_return(weights, log_returns):\n",
    "    return np.sum(log_returns.mean() * weights) * 252\n",
    "\n",
    "# Define the Sharpe Ratio\n",
    "def sharpe_ratio(weights, log_returns, cov_matrix, risk_free_rate):\n",
    "    ret = expected_return(weights, log_returns) - risk_free_rate\n",
    "    std = standard_deviation(weights, cov_matrix)\n",
    "    return ret / std\n",
    "\n",
    "# Set the risk-free rate\n",
    "# Use the fredapi to get the ten-year treasury rate\n",
    "from fredapi import Fred\n",
    "fred = Fred(api_key='e028e52e43c1380cb2bfcd2583dd9346')\n",
    "ten_year_treasury_rate = fred.get_series_latest_release('GS10') / 100\n",
    "\n",
    "risk_free_rate = ten_year_treasury_rate.iloc[-1]\n",
    "\n",
    "# Define the function to minimize (negative Sharpe Ratio)\n",
    "def negative_sharpe_ratio(weights, log_returns, cov_matrix, risk_free_rate):\n",
    "    return -sharpe_ratio(weights, log_returns, cov_matrix, risk_free_rate)\n",
    "\n",
    "# Define the constraints and bounds\n",
    "# TODO: dynamic bounds\n",
    "constraints = ({'type': 'eq', 'fun': lambda x: np.sum(x) - 1})\n",
    "bounds = tuple((0, 1) for x in range(len(tickers)))\n",
    "\n",
    "# Set the initial weights\n",
    "initial_weights = [1/len(tickers) for i in range(len(tickers))]\n",
    "\n",
    "# Optimize the portfolio\n",
    "optimal_weights = minimize(negative_sharpe_ratio, initial_weights, args=(log_returns, cov_matrix, risk_free_rate), method='SLSQP', bounds=bounds, constraints=constraints)\n",
    "\n",
    "# Get the optimal weights\n",
    "optimal_weights = optimal_weights.x\n",
    "\n",
    "\n",
    "## Display analytics of the optimal portfolio\n",
    "print('Optimal Weights:')\n",
    "for ticker, weight in zip(tickers, optimal_weights):\n",
    "    print(f'{ticker}: {weight:.4%}')\n",
    "print(f'Expected Annual Return: {expected_return(optimal_weights, log_returns):.4f}')\n",
    "print(f'Expected Volatility: {standard_deviation(optimal_weights, cov_matrix):.4f}')\n",
    "print(f'Sharpe Ratio: {sharpe_ratio(optimal_weights, log_returns, cov_matrix, risk_free_rate):.4f}')\n",
    "\n",
    "\n",
    "## Display the optimal portfolio in plot\n",
    "import matplotlib.pyplot as plt\n",
    "\n",
    "# Create a bar chart of the optimal weights\n",
    "plt.figure(figsize=(10, 6))\n",
    "plt.bar(tickers, optimal_weights)\n",
    "\n",
    "# Add labels and title\n",
    "plt.xlabel('Asset')\n",
    "plt.ylabel('Optimal Weight')\n",
    "plt.title('Optimal Portfolio Weights')\n",
    "\n",
    "# Display the plot\n",
    "plt.show()\n",
    "\n",
    "\n"
   ]
  }
 ],
 "metadata": {
  "kernelspec": {
   "display_name": "Python 3",
   "language": "python",
   "name": "python3"
  },
  "language_info": {
   "codemirror_mode": {
    "name": "ipython",
    "version": 3
   },
   "file_extension": ".py",
   "mimetype": "text/x-python",
   "name": "python",
   "nbconvert_exporter": "python",
   "pygments_lexer": "ipython3",
   "version": "3.12.6"
  }
 },
 "nbformat": 4,
 "nbformat_minor": 2
}
